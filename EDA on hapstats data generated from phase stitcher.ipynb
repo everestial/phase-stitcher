{
 "cells": [
  {
   "cell_type": "code",
   "execution_count": 1,
   "metadata": {},
   "outputs": [],
   "source": [
    "import pandas as pd\n",
    "import seaborn as sns\n",
    "import matplotlib.pyplot as plt"
   ]
  },
  {
   "cell_type": "code",
   "execution_count": 2,
   "metadata": {},
   "outputs": [
    {
     "data": {
      "text/html": [
       "<div>\n",
       "<style scoped>\n",
       "    .dataframe tbody tr th:only-of-type {\n",
       "        vertical-align: middle;\n",
       "    }\n",
       "\n",
       "    .dataframe tbody tr th {\n",
       "        vertical-align: top;\n",
       "    }\n",
       "\n",
       "    .dataframe thead th {\n",
       "        text-align: right;\n",
       "    }\n",
       "</style>\n",
       "<table border=\"1\" class=\"dataframe\">\n",
       "  <thead>\n",
       "    <tr style=\"text-align: right;\">\n",
       "      <th></th>\n",
       "      <th>CHROM</th>\n",
       "      <th>totalPhasedBlocks</th>\n",
       "      <th>totalUnPhasedBlocks</th>\n",
       "      <th>totalVarsPhasedBlocks</th>\n",
       "      <th>totalVarsUnPhasedBlocks</th>\n",
       "      <th>phasedBlocksPI</th>\n",
       "      <th>unphasedBlocksPI</th>\n",
       "      <th>numVarsInPhasedBlock</th>\n",
       "      <th>numVarsInUnPhasedBlock</th>\n",
       "      <th>log2oddsInPhasedBlock</th>\n",
       "      <th>log2oddsInUnPhasedBlock</th>\n",
       "      <th>totalNumOfBlock</th>\n",
       "      <th>totalNumOfVars</th>\n",
       "    </tr>\n",
       "  </thead>\n",
       "  <tbody>\n",
       "    <tr>\n",
       "      <th>0</th>\n",
       "      <td>1</td>\n",
       "      <td>1</td>\n",
       "      <td>1</td>\n",
       "      <td>60</td>\n",
       "      <td>6</td>\n",
       "      <td>1</td>\n",
       "      <td>2</td>\n",
       "      <td>60</td>\n",
       "      <td>6</td>\n",
       "      <td>-342.702</td>\n",
       "      <td>-24.111</td>\n",
       "      <td>2</td>\n",
       "      <td>66</td>\n",
       "    </tr>\n",
       "    <tr>\n",
       "      <th>1</th>\n",
       "      <td>2</td>\n",
       "      <td>5</td>\n",
       "      <td>0</td>\n",
       "      <td>276</td>\n",
       "      <td>0</td>\n",
       "      <td>9,8,10,7,11</td>\n",
       "      <td>.</td>\n",
       "      <td>94,78,10,69,25</td>\n",
       "      <td>.</td>\n",
       "      <td>734.993,-393.969,53.979,612.634,-172.04</td>\n",
       "      <td>.</td>\n",
       "      <td>5</td>\n",
       "      <td>276</td>\n",
       "    </tr>\n",
       "    <tr>\n",
       "      <th>2</th>\n",
       "      <td>3</td>\n",
       "      <td>4</td>\n",
       "      <td>0</td>\n",
       "      <td>49</td>\n",
       "      <td>0</td>\n",
       "      <td>5,3,4,6</td>\n",
       "      <td>.</td>\n",
       "      <td>6,12,14,17</td>\n",
       "      <td>.</td>\n",
       "      <td>38.99,-58.008,131.935,-39.412</td>\n",
       "      <td>.</td>\n",
       "      <td>4</td>\n",
       "      <td>49</td>\n",
       "    </tr>\n",
       "    <tr>\n",
       "      <th>3</th>\n",
       "      <td>4</td>\n",
       "      <td>5</td>\n",
       "      <td>2</td>\n",
       "      <td>67</td>\n",
       "      <td>10</td>\n",
       "      <td>17,18,16,21,20</td>\n",
       "      <td>22,19</td>\n",
       "      <td>22,11,16,12,6</td>\n",
       "      <td>3,7</td>\n",
       "      <td>-129.685,-27.222,-65.413,-28.642,65.812</td>\n",
       "      <td>0.0,0.0</td>\n",
       "      <td>7</td>\n",
       "      <td>77</td>\n",
       "    </tr>\n",
       "    <tr>\n",
       "      <th>4</th>\n",
       "      <td>5</td>\n",
       "      <td>4</td>\n",
       "      <td>0</td>\n",
       "      <td>284</td>\n",
       "      <td>0</td>\n",
       "      <td>13,15,12,14</td>\n",
       "      <td>.</td>\n",
       "      <td>56,25,96,107</td>\n",
       "      <td>.</td>\n",
       "      <td>-556.01,-254.929,1599.221,-532.147</td>\n",
       "      <td>.</td>\n",
       "      <td>4</td>\n",
       "      <td>284</td>\n",
       "    </tr>\n",
       "    <tr>\n",
       "      <th>5</th>\n",
       "      <td>7</td>\n",
       "      <td>5</td>\n",
       "      <td>4</td>\n",
       "      <td>103</td>\n",
       "      <td>71</td>\n",
       "      <td>25,27,23,28,31</td>\n",
       "      <td>24,26,29,30</td>\n",
       "      <td>6,12,23,37,25</td>\n",
       "      <td>12,31,19,9</td>\n",
       "      <td>121.272,-125.845,-146.213,131.782,-33.848</td>\n",
       "      <td>0.0,1.97,-19.022,0.0</td>\n",
       "      <td>9</td>\n",
       "      <td>174</td>\n",
       "    </tr>\n",
       "    <tr>\n",
       "      <th>6</th>\n",
       "      <td>8</td>\n",
       "      <td>1</td>\n",
       "      <td>1</td>\n",
       "      <td>53</td>\n",
       "      <td>35</td>\n",
       "      <td>33</td>\n",
       "      <td>32</td>\n",
       "      <td>53</td>\n",
       "      <td>35</td>\n",
       "      <td>-362.144</td>\n",
       "      <td>6.283</td>\n",
       "      <td>2</td>\n",
       "      <td>88</td>\n",
       "    </tr>\n",
       "  </tbody>\n",
       "</table>\n",
       "</div>"
      ],
      "text/plain": [
       "   CHROM  totalPhasedBlocks  totalUnPhasedBlocks  totalVarsPhasedBlocks  \\\n",
       "0      1                  1                    1                     60   \n",
       "1      2                  5                    0                    276   \n",
       "2      3                  4                    0                     49   \n",
       "3      4                  5                    2                     67   \n",
       "4      5                  4                    0                    284   \n",
       "5      7                  5                    4                    103   \n",
       "6      8                  1                    1                     53   \n",
       "\n",
       "   totalVarsUnPhasedBlocks  phasedBlocksPI unphasedBlocksPI  \\\n",
       "0                        6               1                2   \n",
       "1                        0     9,8,10,7,11                .   \n",
       "2                        0         5,3,4,6                .   \n",
       "3                       10  17,18,16,21,20            22,19   \n",
       "4                        0     13,15,12,14                .   \n",
       "5                       71  25,27,23,28,31      24,26,29,30   \n",
       "6                       35              33               32   \n",
       "\n",
       "  numVarsInPhasedBlock numVarsInUnPhasedBlock  \\\n",
       "0                   60                      6   \n",
       "1       94,78,10,69,25                      .   \n",
       "2           6,12,14,17                      .   \n",
       "3        22,11,16,12,6                    3,7   \n",
       "4         56,25,96,107                      .   \n",
       "5        6,12,23,37,25             12,31,19,9   \n",
       "6                   53                     35   \n",
       "\n",
       "                       log2oddsInPhasedBlock log2oddsInUnPhasedBlock  \\\n",
       "0                                   -342.702                 -24.111   \n",
       "1    734.993,-393.969,53.979,612.634,-172.04                       .   \n",
       "2              38.99,-58.008,131.935,-39.412                       .   \n",
       "3    -129.685,-27.222,-65.413,-28.642,65.812                 0.0,0.0   \n",
       "4         -556.01,-254.929,1599.221,-532.147                       .   \n",
       "5  121.272,-125.845,-146.213,131.782,-33.848    0.0,1.97,-19.022,0.0   \n",
       "6                                   -362.144                   6.283   \n",
       "\n",
       "   totalNumOfBlock  totalNumOfVars  \n",
       "0                2              66  \n",
       "1                5             276  \n",
       "2                4              49  \n",
       "3                7              77  \n",
       "4                4             284  \n",
       "5                9             174  \n",
       "6                2              88  "
      ]
     },
     "execution_count": 2,
     "metadata": {},
     "output_type": "execute_result"
    }
   ],
   "source": [
    "df = pd.read_csv('tests/outdir/egout4/ms02g_haplotype_stats.txt', sep='\\t')\n",
    "df"
   ]
  },
  {
   "cell_type": "code",
   "execution_count": 3,
   "metadata": {},
   "outputs": [
    {
     "data": {
      "image/png": "[encoded data removed]",
      "text/plain": [
       "<Figure size 432x288 with 1 Axes>"
      ]
     },
     "metadata": {
      "needs_background": "light"
     },
     "output_type": "display_data"
    }
   ],
   "source": [
    "df.plot(kind='bar', x='CHROM', y = 'totalPhasedBlocks')\n",
    "plt.show()"
   ]
  },
  {
   "cell_type": "code",
   "execution_count": 4,
   "metadata": {},
   "outputs": [
    {
     "data": {
      "text/plain": [
       "<AxesSubplot:>"
      ]
     },
     "execution_count": 4,
     "metadata": {},
     "output_type": "execute_result"
    },
    {
     "data": {
      "image/png": "[encoded data removed]",
      "text/plain": [
       "<Figure size 432x288 with 1 Axes>"
      ]
     },
     "metadata": {
      "needs_background": "light"
     },
     "output_type": "display_data"
    }
   ],
   "source": [
    "df[['totalPhasedBlocks', 'totalUnPhasedBlocks']].plot(kind='bar')"
   ]
  },
  {
   "cell_type": "code",
   "execution_count": 5,
   "metadata": {},
   "outputs": [
    {
     "data": {
      "text/plain": [
       "<AxesSubplot:>"
      ]
     },
     "execution_count": 5,
     "metadata": {},
     "output_type": "execute_result"
    },
    {
     "data": {
      "image/png": "[encoded data removed]",
      "text/plain": [
       "<Figure size 432x288 with 1 Axes>"
      ]
     },
     "metadata": {
      "needs_background": "light"
     },
     "output_type": "display_data"
    }
   ],
   "source": [
    "df[['totalVarsPhasedBlocks', 'totalVarsUnPhasedBlocks']].plot(kind='bar')"
   ]
  },
  {
   "cell_type": "code",
   "execution_count": 6,
   "metadata": {},
   "outputs": [
    {
     "data": {
      "text/plain": [
       "<AxesSubplot:>"
      ]
     },
     "execution_count": 6,
     "metadata": {},
     "output_type": "execute_result"
    },
    {
     "data": {
      "image/png": "[encoded data removed]",
      "text/plain": [
       "<Figure size 432x288 with 1 Axes>"
      ]
     },
     "metadata": {
      "needs_background": "light"
     },
     "output_type": "display_data"
    }
   ],
   "source": [
    "df['totalNumOfBlock'].plot(kind='bar')"
   ]
  },
  {
   "cell_type": "code",
   "execution_count": 7,
   "metadata": {},
   "outputs": [
    {
     "data": {
      "text/plain": [
       "<AxesSubplot:>"
      ]
     },
     "execution_count": 7,
     "metadata": {},
     "output_type": "execute_result"
    },
    {
     "data": {
      "image/png": "[encoded data removed]",
      "text/plain": [
       "<Figure size 432x288 with 1 Axes>"
      ]
     },
     "metadata": {
      "needs_background": "light"
     },
     "output_type": "display_data"
    }
   ],
   "source": [
    "df[['totalPhasedBlocks', 'totalUnPhasedBlocks']].plot(kind='line')"
   ]
  }
 ],
 "metadata": {
  "interpreter": {
   "hash": "76fecdcc5948a122d6459e2081f75ede80f8418a8099f56ea59c608eb267b4e7"
  },
  "kernelspec": {
   "display_name": "Python 3.10.2 ('.env': venv)",
   "language": "python",
   "name": "python3"
  },
  "language_info": {
   "codemirror_mode": {
    "name": "ipython",
    "version": 3
   },
   "file_extension": ".py",
   "mimetype": "text/x-python",
   "name": "python",
   "nbconvert_exporter": "python",
   "pygments_lexer": "ipython3",
   "version": "3.10.2"
  },
  "orig_nbformat": 4
 },
 "nbformat": 4,
 "nbformat_minor": 2
}
